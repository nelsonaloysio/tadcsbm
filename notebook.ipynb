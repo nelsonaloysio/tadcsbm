{
 "cells": [
  {
   "cell_type": "code",
   "execution_count": null,
   "id": "17461732",
   "metadata": {},
   "outputs": [],
   "source": [
    "%load_ext autoreload\n",
    "%autoreload 2\n",
    "\n",
    "from collections import Counter\n",
    "\n",
    "import networkx as nx\n",
    "import numpy as np\n",
    "import torch\n",
    "from torch_geometric.utils import from_networkx\n",
    "\n",
    "from tadcsbm import (\n",
    "    tadcsbm_simulator,\n",
    "    generate_block_matrix,\n",
    "    generate_transition_matrix,\n",
    "    generate_degree_vector,\n",
    "    generate_community_vector,\n",
    "    gt_to_nx,\n",
    ")"
   ]
  },
  {
   "cell_type": "code",
   "execution_count": null,
   "id": "d72039f3",
   "metadata": {},
   "outputs": [],
   "source": [
    "k = 8       # Number of communities.\n",
    "t = 8       # Number of snapshots.\n",
    "n = 1024    # Number of vertices.\n",
    "e = 10240   # Number of edges.\n",
    "eta = 1.0   # Community stability rate.\n",
    "gamma = 1   # Fix transition probabilities.\n",
    "beta = 1.0  # Edge sampling rate."
   ]
  },
  {
   "cell_type": "code",
   "execution_count": null,
   "id": "58c78d00",
   "metadata": {},
   "outputs": [],
   "source": [
    "mat = generate_block_matrix(k)\n",
    "mat"
   ]
  },
  {
   "cell_type": "code",
   "execution_count": null,
   "id": "eece870c",
   "metadata": {},
   "outputs": [],
   "source": [
    "tau = generate_transition_matrix(k, eta, uniform_all=False)\n",
    "tau"
   ]
  },
  {
   "cell_type": "code",
   "execution_count": null,
   "id": "25bf85e2",
   "metadata": {},
   "outputs": [],
   "source": [
    "z = generate_community_vector(n, k, shuffle=False)\n",
    "z"
   ]
  },
  {
   "cell_type": "code",
   "execution_count": null,
   "id": "dbb52cad",
   "metadata": {},
   "outputs": [],
   "source": [
    "sbm = tadcsbm_simulator(\n",
    "    snapshots=t,\n",
    "    num_vertices=n,\n",
    "    num_edges=e,\n",
    "    pi=[v/len(z) for k, v in Counter(z).items()],\n",
    "    prop_mat=mat,\n",
    "    tau_mat=tau,\n",
    "    num_feature_groups=k,\n",
    "    feature_dim=32,\n",
    "    feature_center_distance=6.0,\n",
    "    feature_cluster_variance=1.0,\n",
    "    edge_feature_dim=32,\n",
    "    edge_center_distance=6.0,\n",
    "    edge_cluster_variance=1.0,\n",
    "    fixed_probabilities=False,\n",
    "    reverse_snapshot_order=True,\n",
    "    edge_sampling_rate=1.0,\n",
    ")"
   ]
  },
  {
   "cell_type": "code",
   "execution_count": null,
   "id": "70f02dfa",
   "metadata": {},
   "outputs": [],
   "source": [
    "# Compose graph-tool graphs as a single NetworkX multigraph.\n",
    "# list(graph.save(f\"output/snapshot_t={t}.graphml\") for t, graph in enumerate(sbm.graph))\n",
    "G = nx.compose_all([gt_to_nx(graph, time=t) for t, graph in enumerate(sbm.graph)])\n",
    "nx.set_node_attributes(G, {v: y for v, y in zip(G.nodes(), sbm.graph_memberships)}, \"y\")\n",
    "nx.write_graphml(G, \"output/graph.graphml\")\n",
    "\n",
    "# Save node and edge features as NumPy arrays.\n",
    "np.save(\"output/features_node.npy\", sbm.node_features1)\n",
    "np.save(\"output/features_edge.npy\", sbm.edge_features)\n",
    "\n",
    "# Set node and edge attributes in the NetworkX graph.\n",
    "nx.set_node_attributes(G, {v: x for v, x in zip(G.nodes(), sbm.node_features1)}, \"x\")\n",
    "nx.set_node_attributes(G, {e: x for e, x in zip(G.edges(), sbm.edge_features)}, \"edge_attr\")\n",
    "\n",
    "# Save as PyTorch Geometric data object.\n",
    "data = from_networkx(G)\n",
    "torch.save(data, \"output/data.pt\")\n",
    "\n",
    "print(G)\n",
    "print(data)"
   ]
  },
  {
   "cell_type": "markdown",
   "id": "83495c25",
   "metadata": {},
   "source": [
    "___"
   ]
  },
  {
   "cell_type": "code",
   "execution_count": null,
   "id": "0eaee2a0",
   "metadata": {},
   "outputs": [],
   "source": [
    "# from tadcsbm.simulations.sbm_simulator import _TransitionNodeMemberships\n",
    "# _TransitionNodeMemberships(sbm.graph_memberships, tau)"
   ]
  }
 ],
 "metadata": {
  "kernelspec": {
   "display_name": "phd",
   "language": "python",
   "name": "python3"
  },
  "language_info": {
   "codemirror_mode": {
    "name": "ipython",
    "version": 3
   },
   "file_extension": ".py",
   "mimetype": "text/x-python",
   "name": "python",
   "nbconvert_exporter": "python",
   "pygments_lexer": "ipython3",
   "version": "3.11.8"
  }
 },
 "nbformat": 4,
 "nbformat_minor": 5
}
